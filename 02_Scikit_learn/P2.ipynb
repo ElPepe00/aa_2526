{
 "cells": [
  {
   "cell_type": "markdown",
   "id": "15bb3b11a2648c42",
   "metadata": {},
   "source": [
    "# Pràctica II - Perceptron amb Scikit-learn\n",
    "\n",
    "En la sessió anterior hem implementat i entrenat un perceptró des de zero, analitzant pas a pas el seu funcionament intern. Ara, donarem un pas més i treballarem amb la implementació ja disponible a la llibreria scikit-learn, que ens permetrà concentrar-nos en el procés d’aplicació del model a un conjunt de dades real.\n",
    "\n",
    "Per tal d’il·lustrar-ho, farem servir el problema del Titanic, que ja coneixeu del curs anterior. L’objectiu és predir si un passatger va sobreviure o no al naufragi a partir d’algunes de les seves característiques (edat, sexe, classe del bitllet, etc.).\n",
    "\n",
    "Tasques a realitzar\n",
    "\n",
    "1. Carregar i preparar les dades\n",
    "   - Importar el conjunt de dades del Titanic.\n",
    "   - Seleccionar les variables més rellevants i realitzar els preprocessaments necessaris (tractament de valors NaNs, codificació de variables categòriques i normalització).\n",
    "   - Dividir les dades en conjunts d’entrenament i validació.\n",
    "\n",
    "2. Definir i entrenar el model\n",
    "   - Utilitzar la classe Perceptron de ``sklearn.linear_model``.\n",
    "   - Ajustar el model amb les dades d’entrenament.\n",
    "   - Utilitzar el perceptró implementat la sessió anterior per comparar resultats.\n",
    "\n",
    "3. Avaluar el rendiment\n",
    "   - Calcular la *accuracy* sobre les dades de validació.\n",
    "   - Analitzar la matriu de confusió per entendre millor els encerts i errors del model.\n",
    "   - Comparar els resultats de ``scikit-learn`` amb la vostra implementació prèvia."
   ]
  },
  {
   "cell_type": "code",
   "execution_count": 3,
   "id": "f77ef88d2fbacc18",
   "metadata": {},
   "outputs": [],
   "source": [
    "import pandas as pd\n",
    "from sklearn.model_selection import train_test_split"
   ]
  },
  {
   "cell_type": "markdown",
   "id": "55c2819c1c86f7c0",
   "metadata": {},
   "source": [
    "Podeu trobar les dades del Titanic a [Kaggle](https://www.kaggle.com/competitions/titanic/overview)."
   ]
  },
  {
   "cell_type": "code",
   "execution_count": 4,
   "id": "45f95cc6b75bccce",
   "metadata": {},
   "outputs": [
    {
     "name": "stdout",
     "output_type": "stream",
     "text": [
      "PassengerId      int64\n",
      "Survived         int64\n",
      "Pclass           int64\n",
      "Name            object\n",
      "Sex             object\n",
      "Age            float64\n",
      "SibSp            int64\n",
      "Parch            int64\n",
      "Ticket          object\n",
      "Fare           float64\n",
      "Cabin           object\n",
      "Embarked        object\n",
      "dtype: object\n"
     ]
    }
   ],
   "source": [
    "df = pd.read_csv('train.csv')\n",
    "\n",
    "print(df.dtypes)"
   ]
  },
  {
   "cell_type": "markdown",
   "id": "3cbf8201ac2a8318",
   "metadata": {},
   "source": [
    "## Neteja de dades\n",
    "\n",
    "### Codificació de variables categòriques\n",
    "\n",
    "Farem servir la codificació *one-hot* per a les variables categòriques, ``pandas`` té una funció que ens ho facilita: ``get_dummies()``."
   ]
  },
  {
   "cell_type": "code",
   "execution_count": 5,
   "id": "1653770b3a2cd691",
   "metadata": {},
   "outputs": [],
   "source": [
    "# Codificació one-hot per a les variables categòriques (Sex i Embarked)\n",
    "df = pd.get_dummies(df, columns=['Sex', 'Embarked'])"
   ]
  },
  {
   "cell_type": "markdown",
   "id": "f85428816e316096",
   "metadata": {},
   "source": [
    "### Eliminació de les columnes sense informació\n",
    "\n",
    "Hi ha algunes columnes que no aporten informació rellevant per a la predicció, com ara el nom del passatger o el número del bitllet. Les hem d'eliminar."
   ]
  },
  {
   "cell_type": "code",
   "execution_count": 6,
   "id": "25897648be7990c5",
   "metadata": {},
   "outputs": [
    {
     "data": {
      "text/html": [
       "<div>\n",
       "<style scoped>\n",
       "    .dataframe tbody tr th:only-of-type {\n",
       "        vertical-align: middle;\n",
       "    }\n",
       "\n",
       "    .dataframe tbody tr th {\n",
       "        vertical-align: top;\n",
       "    }\n",
       "\n",
       "    .dataframe thead th {\n",
       "        text-align: right;\n",
       "    }\n",
       "</style>\n",
       "<table border=\"1\" class=\"dataframe\">\n",
       "  <thead>\n",
       "    <tr style=\"text-align: right;\">\n",
       "      <th></th>\n",
       "      <th>Survived</th>\n",
       "      <th>Pclass</th>\n",
       "      <th>Age</th>\n",
       "      <th>SibSp</th>\n",
       "      <th>Parch</th>\n",
       "      <th>Fare</th>\n",
       "      <th>Sex_female</th>\n",
       "      <th>Sex_male</th>\n",
       "      <th>Embarked_C</th>\n",
       "      <th>Embarked_Q</th>\n",
       "      <th>Embarked_S</th>\n",
       "    </tr>\n",
       "  </thead>\n",
       "  <tbody>\n",
       "    <tr>\n",
       "      <th>0</th>\n",
       "      <td>0</td>\n",
       "      <td>3</td>\n",
       "      <td>22.0</td>\n",
       "      <td>1</td>\n",
       "      <td>0</td>\n",
       "      <td>7.2500</td>\n",
       "      <td>False</td>\n",
       "      <td>True</td>\n",
       "      <td>False</td>\n",
       "      <td>False</td>\n",
       "      <td>True</td>\n",
       "    </tr>\n",
       "    <tr>\n",
       "      <th>1</th>\n",
       "      <td>1</td>\n",
       "      <td>1</td>\n",
       "      <td>38.0</td>\n",
       "      <td>1</td>\n",
       "      <td>0</td>\n",
       "      <td>71.2833</td>\n",
       "      <td>True</td>\n",
       "      <td>False</td>\n",
       "      <td>True</td>\n",
       "      <td>False</td>\n",
       "      <td>False</td>\n",
       "    </tr>\n",
       "    <tr>\n",
       "      <th>2</th>\n",
       "      <td>1</td>\n",
       "      <td>3</td>\n",
       "      <td>26.0</td>\n",
       "      <td>0</td>\n",
       "      <td>0</td>\n",
       "      <td>7.9250</td>\n",
       "      <td>True</td>\n",
       "      <td>False</td>\n",
       "      <td>False</td>\n",
       "      <td>False</td>\n",
       "      <td>True</td>\n",
       "    </tr>\n",
       "    <tr>\n",
       "      <th>3</th>\n",
       "      <td>1</td>\n",
       "      <td>1</td>\n",
       "      <td>35.0</td>\n",
       "      <td>1</td>\n",
       "      <td>0</td>\n",
       "      <td>53.1000</td>\n",
       "      <td>True</td>\n",
       "      <td>False</td>\n",
       "      <td>False</td>\n",
       "      <td>False</td>\n",
       "      <td>True</td>\n",
       "    </tr>\n",
       "    <tr>\n",
       "      <th>4</th>\n",
       "      <td>0</td>\n",
       "      <td>3</td>\n",
       "      <td>35.0</td>\n",
       "      <td>0</td>\n",
       "      <td>0</td>\n",
       "      <td>8.0500</td>\n",
       "      <td>False</td>\n",
       "      <td>True</td>\n",
       "      <td>False</td>\n",
       "      <td>False</td>\n",
       "      <td>True</td>\n",
       "    </tr>\n",
       "  </tbody>\n",
       "</table>\n",
       "</div>"
      ],
      "text/plain": [
       "   Survived  Pclass   Age  SibSp  Parch     Fare  Sex_female  Sex_male  \\\n",
       "0         0       3  22.0      1      0   7.2500       False      True   \n",
       "1         1       1  38.0      1      0  71.2833        True     False   \n",
       "2         1       3  26.0      0      0   7.9250        True     False   \n",
       "3         1       1  35.0      1      0  53.1000        True     False   \n",
       "4         0       3  35.0      0      0   8.0500       False      True   \n",
       "\n",
       "   Embarked_C  Embarked_Q  Embarked_S  \n",
       "0       False       False        True  \n",
       "1        True       False       False  \n",
       "2       False       False        True  \n",
       "3       False       False        True  \n",
       "4       False       False        True  "
      ]
     },
     "execution_count": 6,
     "metadata": {},
     "output_type": "execute_result"
    }
   ],
   "source": [
    "# Eliminacio de columbes innecessaries (Name, Ticket, Cabin, PassengerId)\n",
    "df = df.drop(columns=['Name', 'Ticket', 'Cabin', 'PassengerId'])\n",
    "\n",
    "df.head()"
   ]
  },
  {
   "cell_type": "markdown",
   "id": "16bc714a",
   "metadata": {},
   "source": [
    "També fusionarem les columnes *Sex_female* i *Sex_male* amb una sola columna"
   ]
  },
  {
   "cell_type": "code",
   "execution_count": 7,
   "id": "4eca83f2",
   "metadata": {},
   "outputs": [],
   "source": [
    "# Fusionam al columna i cream la columna 'Sex'\n",
    "df['Sex'] = df['Sex_female']\n",
    "\n",
    "# Eliminam les columnes innecesaries de sexe\n",
    "df = df.drop(columns=['Sex_female', 'Sex_male'])"
   ]
  },
  {
   "cell_type": "markdown",
   "id": "8fc207eb2c3aa1be",
   "metadata": {},
   "source": [
    "### Normalitzam les dades\n",
    "\n",
    "Hem de normalitzar les dades per tal que totes les característiques tinguin la mateixa escala. Això és especialment important per a algorismes com el perceptró, que són sensibles a la magnitud de les característiques."
   ]
  },
  {
   "cell_type": "code",
   "execution_count": 8,
   "id": "5c44435fa00147f9",
   "metadata": {},
   "outputs": [],
   "source": [
    "from sklearn.preprocessing import StandardScaler\n",
    "\n",
    "# Normalitzador de dades\n",
    "scaler = StandardScaler()\n",
    "\n",
    "# Normalitzar totes les dades menys la variable objectiu (Survived)\n",
    "features = [col for col in df.columns if col != 'Survived']\n",
    "\n",
    "# Normalizam dataframe de totes les variables menys la variables objectiu\n",
    "df[features] = scaler.fit_transform(df[features])"
   ]
  },
  {
   "cell_type": "markdown",
   "id": "122c880687254839",
   "metadata": {},
   "source": [
    "### Tractament de valors NaN\n",
    "\n",
    "Els valors NaN els hem de tractar abans d'entrenar el model. Podem optar per eliminar les files amb valors NaN o bé imputar-los amb la mitjana, mediana o moda de la columna. Pandas ens ofereix diverses funcions per fer-ho. Per exemple, podem utilitzar ``fillna()`` per imputar valors, o ``dropna()`` per eliminar files amb valors NaN."
   ]
  },
  {
   "cell_type": "code",
   "execution_count": 9,
   "id": "d9cce64b0c80cb8e",
   "metadata": {},
   "outputs": [
    {
     "name": "stdout",
     "output_type": "stream",
     "text": [
      "Survived        0\n",
      "Pclass          0\n",
      "Age           177\n",
      "SibSp           0\n",
      "Parch           0\n",
      "Fare            0\n",
      "Embarked_C      0\n",
      "Embarked_Q      0\n",
      "Embarked_S      0\n",
      "Sex             0\n",
      "dtype: int64\n"
     ]
    }
   ],
   "source": [
    "# Miram quines columnes tenen valors nuls\n",
    "print(df.isnull().sum())"
   ]
  },
  {
   "cell_type": "markdown",
   "id": "c586a314",
   "metadata": {},
   "source": [
    "Sabem que *Age* te molts de valors nuls, per tant haurem de rellenar aquests valors nuls amb la mitjana d'edat dels altres valors."
   ]
  },
  {
   "cell_type": "code",
   "execution_count": 10,
   "id": "1dcbd13a",
   "metadata": {},
   "outputs": [],
   "source": [
    "# Eliminam els valors nuls de les columna Age\n",
    "df['Age'] = df['Age'].fillna(df['Age'].mean())\n",
    "\n",
    "# Eliminam les files que quedin amb valors nuls\n",
    "df = df.dropna()"
   ]
  },
  {
   "cell_type": "markdown",
   "id": "274ec24c5f7c94b1",
   "metadata": {},
   "source": [
    "### Divisió del conjunt de dades\n",
    "\n",
    "Separarem les dades en un conjunt d'entrenament i un de validació. Això ens permetrà avaluar el rendiment del model en dades que no ha vist durant l'entrenament. S'utilitza la funció ``train_test_split()`` de ``sklearn.model_selection``."
   ]
  },
  {
   "cell_type": "code",
   "execution_count": 11,
   "id": "72bb13186a72271d",
   "metadata": {},
   "outputs": [],
   "source": [
    "X = df.drop(columns=['Survived'])\n",
    "y = df['Survived']\n",
    "\n",
    "X_train, X_val, y_train, y_val = train_test_split(X, y, test_size=0.3, random_state=42)"
   ]
  },
  {
   "cell_type": "markdown",
   "id": "8fa684e60de94a7c",
   "metadata": {},
   "source": [
    "## Entrenament i avaluació del model\n",
    "\n",
    "Hem d'entrenar el perceptró amb les dades d'entrenament i després avaluar-lo amb les dades de validació. Hem de fer dos entrenaments, un amb la nostra implementació i un altre amb la de ``scikit-learn``. Per emprar la de ``scikit-learn``, utilitzarem la classe ``Perceptron`` de ``sklearn.linear_model``."
   ]
  },
  {
   "cell_type": "code",
   "execution_count": 12,
   "id": "99a1512fca79de3d",
   "metadata": {},
   "outputs": [
    {
     "name": "stdout",
     "output_type": "stream",
     "text": [
      "Accuracy: 0.80\n",
      "Matriu de confusió:\n",
      "[[138  19]\n",
      " [ 35  76]]\n"
     ]
    }
   ],
   "source": [
    "from sklearn.linear_model import Perceptron\n",
    "from sklearn.metrics import accuracy_score, confusion_matrix\n",
    "\n",
    "# Entrenam el model\n",
    "model = Perceptron()\n",
    "model.fit(X_train, y_train)\n",
    "\n",
    "# Prediccions sobre el conjunt de validació\n",
    "y_pred = model.predict(X_val)\n",
    "\n",
    "# Avaluació\n",
    "accuracy = accuracy_score(y_val, y_pred)\n",
    "matriu_confusio = confusion_matrix(y_val, y_pred)\n",
    "\n",
    "print(f\"Accuracy: {accuracy:.2f}\")\n",
    "print(\"Matriu de confusió:\")\n",
    "print(matriu_confusio)"
   ]
  }
 ],
 "metadata": {
  "kernelspec": {
   "display_name": "Python 3",
   "language": "python",
   "name": "python3"
  },
  "language_info": {
   "codemirror_mode": {
    "name": "ipython",
    "version": 3
   },
   "file_extension": ".py",
   "mimetype": "text/x-python",
   "name": "python",
   "nbconvert_exporter": "python",
   "pygments_lexer": "ipython3",
   "version": "3.12.6"
  }
 },
 "nbformat": 4,
 "nbformat_minor": 5
}
