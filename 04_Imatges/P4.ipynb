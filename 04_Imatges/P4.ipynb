{
 "cells": [
  {
   "cell_type": "markdown",
   "id": "836011f370280568",
   "metadata": {},
   "source": [
    "# Aprenentatge profund per a imatges\n",
    "\n",
    "A les lliçons anteriors, hem treballat extensament amb **dades tabulars**. Aquests conjunts de dades són generalment fàcils de representar i analitzar utilitzant eines com `pandas`, `scikit-learn` i diversos models estadístics.\n",
    "\n",
    "Tanmateix, les **imatges** són fonamentalment diferents tant en estructura com en contingut. En lloc de files i columnes amb característiques etiquetades explícitament, una imatge és una graella de valors de píxels, normalment en 2D per a escala de grisos o en 3D per a color (alçada × amplada × canals). Per exemple, una imatge en color de mida 224×224 píxels amb 3 canals de color (RGB) conté més de 150.000 valors en brut, cap dels quals no està etiquetat amb característiques interpretables per humans com “edat” o “ingrés”.\n",
    "\n",
    "Aquesta diferència condueix a diversos reptes importants:\n",
    "\n",
    "- **Alta dimensionalitat**: Les imatges contenen moltes més característiques (píxels) que els conjunts de dades tabulars típics, cosa que augmenta la complexitat computacional i el risc de *overfitting*.\n",
    "- **Estructura espacial**: Els píxels propers en una imatge sovint estan relacionats, formant vores, textures i patrons. Els models tabulars generalment no capten aquestes dependències locals.\n",
    "- **Bretxa semàntica**: La relació entre els píxels en brut i els conceptes significatius (com un moic, una cara o un senyal de trànsit) és complexa i no lineal, i requereix models sofisticats per salvar aquesta bretxa.\n",
    "\n",
    "\n",
    "En aquest mòdul explorarem com treballar amb dades d’imatges Per fer-ho, tornarem a utilitzar `PyTorch`.\n",
    "\n",
    "## *Batches*\n",
    "\n",
    "Quan entrenem models d’aprenentatge profund amb imatges, no alimentem tot el conjunt de dades alhora, com fèiem amb les dades tabulars. En lloc d’això, agrupem múltiples imatges en *batches*.\n",
    "\n",
    "Un *batch* és una col·lecció de mostres (p. ex. imatges i les seves etiquetes) processades juntes en una sola passada endavant i enrere. Com a resultat les dades d'imatge són representades com un tensor de 4 dimensions:\n",
    "\n",
    "```(batch_size, channels, height, width)\n",
    "```\n",
    "\n",
    "## El conjunt de dades MNIST\n",
    "\n",
    "Per començar a treballar amb dades d’imatges en la pràctica, utilitzarem un dels conjunts de dades de referència més coneguts: **MNIST**. **MNIST** significa *Modified National Institute of Standards and Technology*. Consta de **70.000 imatges en escala de grisos** de xifres manuscrites (del 0 al 9), dividides en:\n",
    "\n",
    "- **60.000 imatges d’entrenament**\n",
    "- **10.000 imatges de prova**\n",
    "\n",
    "Cada imatge és:\n",
    "\n",
    "- **28 × 28 píxels**\n",
    "- **En escala de grisos** (és a dir, un sol canal)\n",
    "- **Etiquetada** amb la xifra correcta (0–9)\n",
    "\n",
    "El conjunt de dades MNIST ha estat àmpliament utilitzat com a banc de proves per a algorismes d’aprenentatge automàtic i aprenentatge profund. Aquest conjunt de dades és ideal per aprendre perquè és petit, net i ja preprocesat, però alhora ofereix una complexitat realista en les xifres manuscrites.\n",
    "\n",
    "### Exemple d’imatges MNIST\n",
    "\n",
    "A continuació es mostra una mostra de xifres MNIST:\n",
    "\n",
    "![MNIST Examples](https://upload.wikimedia.org/wikipedia/commons/2/27/MnistExamples.png)\n",
    "\n",
    "Cada fila a la imatge anterior mostra les xifres del 0 al 9 escrites per persones diferents. Com pots veure, algunes xifres s’escriuen de maneres molt diferents, i és per això que necessitem l’aprenentatge automàtic per reconèixer-les automàticament."
   ]
  },
  {
   "cell_type": "code",
   "execution_count": 1,
   "id": "f938c9d912b0d9b6",
   "metadata": {
    "ExecuteTime": {
     "end_time": "2025-10-08T08:50:21.053017Z",
     "start_time": "2025-10-08T08:50:21.050897Z"
    }
   },
   "outputs": [],
   "source": [
    "from sklearn.metrics import accuracy_score\n",
    "\n",
    "import torch\n",
    "import torch.nn as nn\n",
    "\n",
    "from torchvision import datasets, transforms\n",
    "from torch.utils.data import DataLoader\n",
    "\n",
    "from tqdm import tqdm"
   ]
  },
  {
   "cell_type": "markdown",
   "id": "73205d6e94fde810",
   "metadata": {},
   "source": [
    "## Carrega de dades\n",
    "\n",
    "El processament de dades, com ja hem vist, és una part fonamental de qualsevol projecte d'aprenentatge profund. Per treballar amb dades de manera eficient, PyTorch ofereix dues classes: ``Dataset`` i ``DataLoader``.\n",
    "\n",
    "El ``Dataset`` és una classe que representa un conjunt de dades. Serveix per carregar, transformar i accedir als elements individuals del conjunt. PyTorch inclou diversos datasets predefinits com MNIST, CIFAR-10 o ImageNet, però també podem crear els nostres propis datasets personalitzats heretant de torch.utils.data.Dataset i implementant els mètodes __len__() i __getitem__().\n",
    "\n",
    "Un cop tenim el dataset, el ``DataLoader`` s’encarrega de gestionar la manera com aquestes dades s’entreguen al model. Permet dividir les dades en **batches**, barrejar-les (shuffle) i carregar-les en paral·lel utilitzant múltiples fils (*workers*)."
   ]
  },
  {
   "cell_type": "code",
   "execution_count": 2,
   "id": "9f1e9c193199ef4b",
   "metadata": {
    "ExecuteTime": {
     "end_time": "2025-10-08T08:50:23.792250Z",
     "start_time": "2025-10-08T08:50:23.760262Z"
    }
   },
   "outputs": [
    {
     "name": "stderr",
     "output_type": "stream",
     "text": [
      "100%|██████████| 9.91M/9.91M [00:06<00:00, 1.47MB/s]\n",
      "100%|██████████| 28.9k/28.9k [00:00<00:00, 215kB/s]\n",
      "100%|██████████| 1.65M/1.65M [00:06<00:00, 241kB/s]\n",
      "100%|██████████| 4.54k/4.54k [00:00<?, ?B/s]\n"
     ]
    }
   ],
   "source": [
    "BATCH_SIZE = 64\n",
    "transform = transforms.Compose([\n",
    "    transforms.ToTensor(),\n",
    "])\n",
    "\n",
    "dataset_train = datasets.MNIST(root='data', train=True, download=True, transform=transform)\n",
    "dataloader_train = DataLoader(dataset_train, batch_size=BATCH_SIZE)\n",
    "\n",
    "dataset_val = datasets.MNIST(root='data', train=False, download=True, transform=transform)\n",
    "dataloader_val = DataLoader(dataset_val, batch_size=BATCH_SIZE)"
   ]
  },
  {
   "cell_type": "code",
   "execution_count": 3,
   "id": "53db4a8a72fa186c",
   "metadata": {
    "ExecuteTime": {
     "end_time": "2025-10-08T08:50:27.810853Z",
     "start_time": "2025-10-08T08:50:27.807426Z"
    }
   },
   "outputs": [
    {
     "name": "stdout",
     "output_type": "stream",
     "text": [
      "torch.Size([1, 28, 28])\n",
      "5\n"
     ]
    }
   ],
   "source": [
    "for img, gt in dataset_train:\n",
    "\tprint(img.shape)\n",
    "\tprint(gt)\n",
    "\tbreak"
   ]
  },
  {
   "cell_type": "code",
   "execution_count": 4,
   "id": "973459a1d81507dc",
   "metadata": {
    "ExecuteTime": {
     "end_time": "2025-10-08T08:51:03.007582Z",
     "start_time": "2025-10-08T08:51:03.001261Z"
    }
   },
   "outputs": [
    {
     "name": "stdout",
     "output_type": "stream",
     "text": [
      "torch.Size([64, 1, 28, 28])\n",
      "torch.Size([64])\n"
     ]
    }
   ],
   "source": [
    "for batch, gt in dataloader_train:\n",
    "\tprint(batch.shape)\n",
    "\tprint(gt.shape)\n",
    "\tbreak"
   ]
  },
  {
   "cell_type": "markdown",
   "id": "f6751c5d3079d7df",
   "metadata": {},
   "source": [
    "`nn.Sequential`` és una manera senzilla de construir una xarxa neuronal apilant les capes en ordre.\n",
    "\n",
    "És útil quan el teu model és una cadena lineal de capes, sense ramificacions ni lògica personalitzada."
   ]
  },
  {
   "cell_type": "code",
   "execution_count": 5,
   "id": "8336cc39da8f39e7",
   "metadata": {
    "ExecuteTime": {
     "end_time": "2025-10-08T08:05:11.993166Z",
     "start_time": "2025-10-08T08:05:11.989294Z"
    }
   },
   "outputs": [],
   "source": [
    "mlp_net = nn.Sequential(\n",
    "    torch.nn.Linear(784, 10),\n",
    "    nn.ReLU(),\n",
    "    torch.nn.Linear(10, 10),\n",
    "    torch.nn.Dropout(0.2),\n",
    "    nn.ReLU(),\n",
    "    torch.nn.Linear(10, 10)\n",
    ")"
   ]
  },
  {
   "cell_type": "markdown",
   "id": "b19b1715c1af2d0a",
   "metadata": {},
   "source": [
    "### Entrenament"
   ]
  },
  {
   "cell_type": "code",
   "execution_count": 8,
   "id": "649560387e03ee96",
   "metadata": {
    "ExecuteTime": {
     "end_time": "2025-10-08T08:54:52.285287Z",
     "start_time": "2025-10-08T08:54:52.281147Z"
    }
   },
   "outputs": [],
   "source": [
    "EPOCHS = 5\n",
    "loss_fn = nn.CrossEntropyLoss()\n",
    "LR = 1e-3\n",
    "optimizer = torch.optim.Adam(mlp_net.parameters(), lr=LR)"
   ]
  },
  {
   "cell_type": "code",
   "execution_count": 10,
   "id": "3d18c723b9f345c0",
   "metadata": {
    "ExecuteTime": {
     "end_time": "2025-10-08T08:55:08.233170Z",
     "start_time": "2025-10-08T08:55:02.033608Z"
    }
   },
   "outputs": [
    {
     "name": "stderr",
     "output_type": "stream",
     "text": [
      "Epochs:  20%|██        | 1/5 [00:10<00:40, 10.23s/it]"
     ]
    },
    {
     "name": "stdout",
     "output_type": "stream",
     "text": [
      "Epoch 1: Train Loss=0.4684, Train Acc=0.8534, Val Loss=0.3005, Val Acc=0.9105\n"
     ]
    },
    {
     "name": "stderr",
     "output_type": "stream",
     "text": [
      "Epochs:  40%|████      | 2/5 [00:20<00:30, 10.24s/it]"
     ]
    },
    {
     "name": "stdout",
     "output_type": "stream",
     "text": [
      "Epoch 2: Train Loss=0.4520, Train Acc=0.8577, Val Loss=0.2905, Val Acc=0.9139\n"
     ]
    },
    {
     "name": "stderr",
     "output_type": "stream",
     "text": [
      "Epochs:  60%|██████    | 3/5 [00:31<00:21, 10.59s/it]"
     ]
    },
    {
     "name": "stdout",
     "output_type": "stream",
     "text": [
      "Epoch 3: Train Loss=0.4377, Train Acc=0.8641, Val Loss=0.2899, Val Acc=0.9146\n"
     ]
    },
    {
     "name": "stderr",
     "output_type": "stream",
     "text": [
      "Epochs:  80%|████████  | 4/5 [00:43<00:11, 11.11s/it]"
     ]
    },
    {
     "name": "stdout",
     "output_type": "stream",
     "text": [
      "Epoch 4: Train Loss=0.4257, Train Acc=0.8674, Val Loss=0.2882, Val Acc=0.9163\n"
     ]
    },
    {
     "name": "stderr",
     "output_type": "stream",
     "text": [
      "Epochs: 100%|██████████| 5/5 [00:55<00:00, 11.08s/it]"
     ]
    },
    {
     "name": "stdout",
     "output_type": "stream",
     "text": [
      "Epoch 5: Train Loss=0.4213, Train Acc=0.8708, Val Loss=0.2757, Val Acc=0.9201\n"
     ]
    },
    {
     "name": "stderr",
     "output_type": "stream",
     "text": [
      "\n"
     ]
    }
   ],
   "source": [
    "running_loss = []\n",
    "running_acc = []\n",
    "\n",
    "running_test_loss = []\n",
    "running_test_acc = []\n",
    "\n",
    "for t in tqdm(range(EPOCHS), desc=\"Epochs\"):\n",
    "    batch_loss = 0\n",
    "    batch_acc = 0\n",
    "\n",
    "    i_batch = 0\n",
    "    for i_batch, (x, y) in enumerate(dataloader_train):  # We have to iter the batches.\n",
    "        mlp_net.train()\n",
    "        x = x.reshape(x.shape[0], -1)  # Flatten images\n",
    "\n",
    "        optimizer.zero_grad()\n",
    "        y_pred = mlp_net(x)\n",
    "\n",
    "        # 1. LOSS CALCULATION\n",
    "        loss = loss_fn(y_pred, y)\n",
    "\n",
    "        # 2. GRADIENT\n",
    "        mlp_net.zero_grad()\n",
    "        loss.backward()\n",
    "\n",
    "        # 3. OPTIMISATION\n",
    "        with torch.no_grad():\n",
    "            optimizer.step()\n",
    "\n",
    "        y_pred_labels = torch.argmax(y_pred, 1)\n",
    "        batch_loss += loss.item()\n",
    "        batch_acc += accuracy_score(y.cpu(), y_pred_labels.cpu())\n",
    "\n",
    "    running_loss.append(batch_loss / (i_batch + 1))\n",
    "    running_acc.append(batch_acc / (i_batch + 1))\n",
    "\n",
    "        # 4. EVALUATION\n",
    "    mlp_net.eval()  # Mode avaluació de la xarxa\n",
    "\n",
    "    val_loss = 0\n",
    "    val_acc = 0\n",
    "\n",
    "    with torch.no_grad():\n",
    "        for x_val, y_val in dataloader_val:\n",
    "            x_val = x_val.reshape(x_val.shape[0], -1)\n",
    "            y_pred_val = mlp_net(x_val)\n",
    "            val_loss += loss_fn(y_pred_val, y_val).item()\n",
    "            y_pred_labels_val = torch.argmax(y_pred_val, 1)\n",
    "            val_acc += accuracy_score(y_val.cpu(), y_pred_labels_val.cpu())\n",
    "\n",
    "    running_test_loss.append(val_loss / len(dataloader_val))\n",
    "    running_test_acc.append(val_acc / len(dataloader_val))\n",
    "\n",
    "    print(f\"Epoch {t+1}: Train Loss={running_loss[-1]:.4f}, Train Acc={running_acc[-1]:.4f}, \"\n",
    "          f\"Val Loss={running_test_loss[-1]:.4f}, Val Acc={running_test_acc[-1]:.4f}\")"
   ]
  },
  {
   "cell_type": "markdown",
   "id": "be00057761220c69",
   "metadata": {},
   "source": [
    "## Tasca a fer\n",
    "\n",
    "1. Seleccionar la funció de pèrdua a emprar per poder entrenar el model.\n",
    "2. Afegir la validació al bucle del `MNIST` i contestar a la pregunta de si hi ha *overfitting*?\n",
    "2. Crear dos objectes `DataLoader` pel següent [dataset](https://github.com/miquelmn/aa_2526/releases/download/pr3/p4.tar.gz). Per fer-ho haureu de primer descarregar les imatges de l'enllaç, i després carregar les dades emprant [ImageFolder](https://docs.pytorch.org/vision/main/generated/torchvision.datasets.ImageFolder.html) de `PyTorch`.\n",
    "3. Entrenar un **MLP** amb `PyTorch` per tal d'identificar les classes. Prova primer amb una mida d'imatges més petita (64 per 64 píxels) fins a la mida original."
   ]
  },
  {
   "cell_type": "markdown",
   "id": "b8d25a4d",
   "metadata": {},
   "source": [
    "#### Creació del *DataLoader*"
   ]
  },
  {
   "cell_type": "code",
   "execution_count": 32,
   "id": "cc3310b6",
   "metadata": {},
   "outputs": [
    {
     "name": "stdout",
     "output_type": "stream",
     "text": [
      "Classes detectades: ['0', '4']\n"
     ]
    }
   ],
   "source": [
    "BATCH_SIZE = 32\n",
    "EPOCHS = 10\n",
    "LR = 0.001\n",
    "\n",
    "# Transformació per les imatges\n",
    "transform = transforms.Compose([\n",
    "    transforms.Resize((64,64)),\n",
    "    transforms.RandomRotation(15),\n",
    "    transforms.RandomHorizontalFlip(),\n",
    "    transforms.ToTensor(),\n",
    "    transforms.Normalize(mean=[0.5,0.5,0.5], std=[0.5,0.5,0.5])\n",
    "])\n",
    "\n",
    "# Dataset d'entrenament\n",
    "train_dataset = datasets.ImageFolder(root='datasetBirds/train', transform=transform)\n",
    "train_loader = DataLoader(train_dataset, batch_size=BATCH_SIZE)\n",
    "\n",
    "# Dataset de test\n",
    "test_dataset = datasets.ImageFolder(root='datasetBirds/test', transform=transform)\n",
    "test_loader = DataLoader(test_dataset, batch_size=BATCH_SIZE)\n",
    "\n",
    "num_classes = len(train_dataset.classes)\n",
    "input_size = 64 * 64 * 3  # Si les imatges són RGB\n",
    "\n",
    "# Comprovar classes\n",
    "print(\"Classes detectades:\", train_dataset.classes)"
   ]
  },
  {
   "cell_type": "code",
   "execution_count": 33,
   "id": "e9099c3c",
   "metadata": {},
   "outputs": [
    {
     "name": "stdout",
     "output_type": "stream",
     "text": [
      "torch.Size([3, 64, 64])\n",
      "0\n"
     ]
    }
   ],
   "source": [
    "for img, gt in train_dataset:\n",
    "\tprint(img.shape)\n",
    "\tprint(gt)\n",
    "\tbreak"
   ]
  },
  {
   "cell_type": "code",
   "execution_count": 34,
   "id": "01fb3164",
   "metadata": {},
   "outputs": [
    {
     "name": "stdout",
     "output_type": "stream",
     "text": [
      "torch.Size([32, 3, 64, 64])\n",
      "torch.Size([32])\n"
     ]
    }
   ],
   "source": [
    "for batch, gt in train_loader:\n",
    "\tprint(batch.shape)\n",
    "\tprint(gt.shape)\n",
    "\tbreak"
   ]
  },
  {
   "cell_type": "code",
   "execution_count": 35,
   "id": "ede2db9f316e1358",
   "metadata": {},
   "outputs": [],
   "source": [
    "class MLP(nn.Module):\n",
    "    def __init__(self, input_size, num_classes):\n",
    "        super().__init__()\n",
    "        self.fc1 = nn.Linear(input_size, 512)\n",
    "        self.relu1 = nn.ReLU()\n",
    "        self.fc2 = nn.Linear(512, 128)\n",
    "        self.relu2 = nn.ReLU()\n",
    "        self.fc3 = nn.Linear(128, num_classes)\n",
    "        \n",
    "    def forward(self, x):\n",
    "        x = x.view(x.size(0), -1)  # Flatten image\n",
    "        x = self.relu1(self.fc1(x))\n",
    "        x = self.relu2(self.fc2(x))\n",
    "        x = self.fc3(x)\n",
    "        return x\n",
    "\n",
    "mlp_net = MLP(input_size=input_size, num_classes=num_classes)"
   ]
  },
  {
   "cell_type": "code",
   "execution_count": 36,
   "id": "ec13a0f5",
   "metadata": {},
   "outputs": [],
   "source": [
    "import torch.optim as optim\n",
    "\n",
    "criterion = nn.CrossEntropyLoss()\n",
    "optimizer = optim.Adam(mlp_net.parameters(), lr=LR)"
   ]
  },
  {
   "cell_type": "code",
   "execution_count": 37,
   "id": "f32ec3f2",
   "metadata": {},
   "outputs": [
    {
     "name": "stdout",
     "output_type": "stream",
     "text": [
      "Epoch 1/10: Train Loss=6.8810, Train Acc=0.8616, Val Loss=12.6818, Val Acc=0.5000\n",
      "Epoch 2/10: Train Loss=2.7765, Train Acc=0.6384, Val Loss=4.1659, Val Acc=0.5000\n",
      "Epoch 3/10: Train Loss=1.3735, Train Acc=0.4643, Val Loss=0.6946, Val Acc=0.5000\n",
      "Epoch 4/10: Train Loss=0.7109, Train Acc=0.2262, Val Loss=0.6934, Val Acc=0.5000\n",
      "Epoch 5/10: Train Loss=0.7016, Train Acc=0.2421, Val Loss=0.6933, Val Acc=0.5000\n",
      "Epoch 6/10: Train Loss=0.6998, Train Acc=0.2421, Val Loss=0.6932, Val Acc=0.5000\n",
      "Epoch 7/10: Train Loss=0.6989, Train Acc=0.2421, Val Loss=0.6932, Val Acc=0.5000\n",
      "Epoch 8/10: Train Loss=0.6985, Train Acc=0.2579, Val Loss=0.6932, Val Acc=0.5000\n",
      "Epoch 9/10: Train Loss=0.6983, Train Acc=0.2421, Val Loss=0.6932, Val Acc=0.5000\n",
      "Epoch 10/10: Train Loss=0.6981, Train Acc=0.2421, Val Loss=0.6932, Val Acc=0.5000\n"
     ]
    }
   ],
   "source": [
    "from sklearn.metrics import accuracy_score\n",
    "from tqdm import tqdm\n",
    "\n",
    "running_loss = []\n",
    "running_acc = []\n",
    "running_val_loss = []\n",
    "running_val_acc = []\n",
    "\n",
    "for epoch in range(EPOCHS):\n",
    "    # ---- ENTRENAMENT ----\n",
    "    mlp_net.train()\n",
    "    train_loss = 0\n",
    "    train_acc = 0\n",
    "\n",
    "    for x, y in train_loader:\n",
    "        optimizer.zero_grad()\n",
    "        y_pred = mlp_net(x)\n",
    "        loss = criterion(y_pred, y)\n",
    "        loss.backward()\n",
    "        optimizer.step()\n",
    "\n",
    "        train_loss += loss.item()\n",
    "        y_pred_labels = torch.argmax(y_pred, dim=1)\n",
    "        train_acc += accuracy_score(y.cpu(), y_pred_labels.cpu())\n",
    "\n",
    "    train_loss /= len(train_loader)\n",
    "    train_acc /= len(train_loader)\n",
    "\n",
    "    running_loss.append(train_loss)\n",
    "    running_acc.append(train_acc)\n",
    "\n",
    "    # ---- VALIDACIÓ ----\n",
    "    mlp_net.eval()\n",
    "    val_loss = 0\n",
    "    val_acc = 0\n",
    "    with torch.no_grad():\n",
    "        for x_val, y_val in test_loader:\n",
    "            y_pred_val = mlp_net(x_val)\n",
    "            val_loss += criterion(y_pred_val, y_val).item()\n",
    "            y_pred_labels_val = torch.argmax(y_pred_val, dim=1)\n",
    "            val_acc += accuracy_score(y_val.cpu(), y_pred_labels_val.cpu())\n",
    "\n",
    "    val_loss /= len(test_loader)\n",
    "    val_acc /= len(test_loader)\n",
    "\n",
    "    running_val_loss.append(val_loss)\n",
    "    running_val_acc.append(val_acc)\n",
    "\n",
    "    print(f\"Epoch {epoch+1}/{EPOCHS}: Train Loss={train_loss:.4f}, Train Acc={train_acc:.4f}, \"\n",
    "          f\"Val Loss={val_loss:.4f}, Val Acc={val_acc:.4f}\")"
   ]
  }
 ],
 "metadata": {
  "kernelspec": {
   "display_name": "Python 3",
   "language": "python",
   "name": "python3"
  },
  "language_info": {
   "codemirror_mode": {
    "name": "ipython",
    "version": 3
   },
   "file_extension": ".py",
   "mimetype": "text/x-python",
   "name": "python",
   "nbconvert_exporter": "python",
   "pygments_lexer": "ipython3",
   "version": "3.12.6"
  }
 },
 "nbformat": 4,
 "nbformat_minor": 5
}
